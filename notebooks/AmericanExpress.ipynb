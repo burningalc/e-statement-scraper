{
 "cells": [
  {
   "cell_type": "code",
   "execution_count": 1,
   "metadata": {},
   "outputs": [],
   "source": [
    "# import library\n",
    "from bs4 import BeautifulSoup\n",
    "import requests\n",
    "from selenium import webdriver\n",
    "from selenium.webdriver.support.ui import WebDriverWait\n",
    "from selenium.webdriver.chrome.options import Options\n",
    "from datetime import datetime"
   ]
  },
  {
   "cell_type": "code",
   "execution_count": 2,
   "metadata": {},
   "outputs": [],
   "source": [
    "# import credential\n",
    "import sys\n",
    "sys.path.insert(1, \"../\")\n",
    "from credential import credential"
   ]
  },
  {
   "cell_type": "code",
   "execution_count": 3,
   "metadata": {},
   "outputs": [],
   "source": [
    "# setup chromedriver\n",
    "chrome = \"../drivers/chromedriver.exe\"\n",
    "\n",
    "# options\n",
    "chromeOptions = webdriver.ChromeOptions()\n",
    "chromeOptions.add_argument(\"incognito\")\n",
    "# chromeOptions.add_argument(\"headless\")\n",
    "prefs = {\n",
    "    \"profile.default_content_settings.popups\": 0,\n",
    "    \"download.default_directory\": \"C:\\\\Users\\\\Kenny\\\\Documents\\\\E-statement\\\\AE\"\n",
    "}\n",
    "chromeOptions.add_experimental_option('prefs', prefs)\n",
    "\n",
    "driver = webdriver.Chrome(executable_path=chrome, chrome_options=chromeOptions)"
   ]
  },
  {
   "cell_type": "code",
   "execution_count": 4,
   "metadata": {},
   "outputs": [],
   "source": [
    "# login\n",
    "driver.get(\"https://www.americanexpress.com/hk/\")\n",
    "\n",
    "username = driver.find_element_by_id(\"login-user\")\n",
    "username.click()\n",
    "username.send_keys(credential[\"AmericanExpress\"][\"username\"])\n",
    "\n",
    "password = driver.find_element_by_id(\"login-password\")\n",
    "password.click()\n",
    "password.send_keys(credential[\"AmericanExpress\"][\"password\"])\n",
    "\n",
    "driver.find_element_by_id(\"login-submit\").click()"
   ]
  },
  {
   "cell_type": "code",
   "execution_count": 5,
   "metadata": {},
   "outputs": [],
   "source": [
    "# get the latest pdf\n",
    "driver.get(\"https://global.americanexpress.com/myca/intl/pdfstmt/japa/statementImageInfo.do?BPIndex=0&request_type=&Face=en_HK&sorted_index=1\")"
   ]
  },
  {
   "cell_type": "code",
   "execution_count": 6,
   "metadata": {
    "tags": [
     "outputPrepend"
    ]
   },
   "outputs": [],
   "source": [
    "soup = BeautifulSoup(driver.page_source, \"html.parser\")\n",
    "links = soup.find_all(\"a\", {\"class\": \"link\"})"
   ]
  },
  {
   "cell_type": "code",
   "execution_count": 7,
   "metadata": {},
   "outputs": [],
   "source": [
    "today = datetime.now()\n",
    "for link in links:\n",
    "    linkDate = datetime.strptime(link.contents[0], \"%d %B %Y\")\n",
    "    if linkDate.year == today.year and linkDate.month == today.month - 1:\n",
    "        driver.execute_script(link[\"href\"])"
   ]
  },
  {
   "cell_type": "code",
   "execution_count": null,
   "metadata": {},
   "outputs": [],
   "source": []
  }
 ],
 "metadata": {
  "language_info": {
   "codemirror_mode": {
    "name": "ipython",
    "version": 3
   },
   "file_extension": ".py",
   "mimetype": "text/x-python",
   "name": "python",
   "nbconvert_exporter": "python",
   "pygments_lexer": "ipython3",
   "version": "3.7.2-final"
  },
  "orig_nbformat": 2,
  "kernelspec": {
   "name": "python37232bita91693ef1ef24a478808b3734c841baa",
   "display_name": "Python 3.7.2 32-bit"
  }
 },
 "nbformat": 4,
 "nbformat_minor": 2
}